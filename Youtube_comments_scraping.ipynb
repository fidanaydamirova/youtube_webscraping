{
  "nbformat": 4,
  "nbformat_minor": 0,
  "metadata": {
    "colab": {
      "name": "Youtube_comments_scraping.ipynb",
      "provenance": [],
      "authorship_tag": "ABX9TyPaQyT56lgxDpgQe1fb6zbz",
      "include_colab_link": true
    },
    "kernelspec": {
      "name": "python3",
      "display_name": "Python 3"
    },
    "language_info": {
      "name": "python"
    }
  },
  "cells": [
    {
      "cell_type": "markdown",
      "metadata": {
        "id": "view-in-github",
        "colab_type": "text"
      },
      "source": [
        "<a href=\"https://colab.research.google.com/github/fidanaydamirova/youtube_webscraping/blob/main/Youtube_comments_scraping.ipynb\" target=\"_parent\"><img src=\"https://colab.research.google.com/assets/colab-badge.svg\" alt=\"Open In Colab\"/></a>"
      ]
    },
    {
      "cell_type": "markdown",
      "source": [
        "# ***Introduction: We are performing webscraping of youtube video comments, storing them in a dataset and performing sentiment analysis on them to find the percentage of positive and negative reviews.***\n",
        "\n",
        "---\n",
        "\n",
        "\n",
        "\n",
        "\n"
      ],
      "metadata": {
        "id": "KSp6Cf72FsYZ"
      }
    },
    {
      "cell_type": "code",
      "metadata": {
        "colab": {
          "base_uri": "https://localhost:8080/"
        },
        "id": "3Hcsm7kNxfjC",
        "outputId": "791328c6-eb48-4965-921b-aa7e344429ac"
      },
      "source": [
        "!pip install time\n",
        "!pip install nltk\n",
        "!pip install selenium"
      ],
      "execution_count": null,
      "outputs": [
        {
          "output_type": "stream",
          "name": "stdout",
          "text": [
            "\u001b[31mERROR: Could not find a version that satisfies the requirement time (from versions: none)\u001b[0m\n",
            "\u001b[31mERROR: No matching distribution found for time\u001b[0m\n",
            "Requirement already satisfied: nltk in /usr/local/lib/python3.7/dist-packages (3.2.5)\n",
            "Requirement already satisfied: six in /usr/local/lib/python3.7/dist-packages (from nltk) (1.15.0)\n",
            "Requirement already satisfied: selenium in /usr/local/lib/python3.7/dist-packages (4.1.0)\n",
            "Requirement already satisfied: urllib3[secure]~=1.26 in /usr/local/lib/python3.7/dist-packages (from selenium) (1.26.7)\n",
            "Requirement already satisfied: trio-websocket~=0.9 in /usr/local/lib/python3.7/dist-packages (from selenium) (0.9.2)\n",
            "Requirement already satisfied: trio~=0.17 in /usr/local/lib/python3.7/dist-packages (from selenium) (0.19.0)\n",
            "Requirement already satisfied: sortedcontainers in /usr/local/lib/python3.7/dist-packages (from trio~=0.17->selenium) (2.4.0)\n",
            "Requirement already satisfied: sniffio in /usr/local/lib/python3.7/dist-packages (from trio~=0.17->selenium) (1.2.0)\n",
            "Requirement already satisfied: attrs>=19.2.0 in /usr/local/lib/python3.7/dist-packages (from trio~=0.17->selenium) (21.2.0)\n",
            "Requirement already satisfied: outcome in /usr/local/lib/python3.7/dist-packages (from trio~=0.17->selenium) (1.1.0)\n",
            "Requirement already satisfied: idna in /usr/local/lib/python3.7/dist-packages (from trio~=0.17->selenium) (2.10)\n",
            "Requirement already satisfied: async-generator>=1.9 in /usr/local/lib/python3.7/dist-packages (from trio~=0.17->selenium) (1.10)\n",
            "Requirement already satisfied: wsproto>=0.14 in /usr/local/lib/python3.7/dist-packages (from trio-websocket~=0.9->selenium) (1.0.0)\n",
            "Requirement already satisfied: certifi in /usr/local/lib/python3.7/dist-packages (from urllib3[secure]~=1.26->selenium) (2021.10.8)\n",
            "Requirement already satisfied: cryptography>=1.3.4 in /usr/local/lib/python3.7/dist-packages (from urllib3[secure]~=1.26->selenium) (36.0.0)\n",
            "Requirement already satisfied: pyOpenSSL>=0.14 in /usr/local/lib/python3.7/dist-packages (from urllib3[secure]~=1.26->selenium) (21.0.0)\n",
            "Requirement already satisfied: cffi>=1.12 in /usr/local/lib/python3.7/dist-packages (from cryptography>=1.3.4->urllib3[secure]~=1.26->selenium) (1.15.0)\n",
            "Requirement already satisfied: pycparser in /usr/local/lib/python3.7/dist-packages (from cffi>=1.12->cryptography>=1.3.4->urllib3[secure]~=1.26->selenium) (2.21)\n",
            "Requirement already satisfied: six>=1.5.2 in /usr/local/lib/python3.7/dist-packages (from pyOpenSSL>=0.14->urllib3[secure]~=1.26->selenium) (1.15.0)\n",
            "Requirement already satisfied: h11<1,>=0.9.0 in /usr/local/lib/python3.7/dist-packages (from wsproto>=0.14->trio-websocket~=0.9->selenium) (0.12.0)\n"
          ]
        }
      ]
    },
    {
      "cell_type": "code",
      "metadata": {
        "colab": {
          "base_uri": "https://localhost:8080/"
        },
        "id": "1pDCxGhA7fqQ",
        "outputId": "8a47b46c-d6b9-4d72-a2e8-86d3dafe7c7e"
      },
      "source": [
        "!apt install chromium-chromedriver\n",
        "!cp /usr/lib/chromium-browser/chromedriver /usr/bin"
      ],
      "execution_count": null,
      "outputs": [
        {
          "output_type": "stream",
          "name": "stdout",
          "text": [
            "Reading package lists... Done\n",
            "Building dependency tree       \n",
            "Reading state information... Done\n",
            "chromium-chromedriver is already the newest version (95.0.4638.69-0ubuntu0.18.04.1).\n",
            "0 upgraded, 0 newly installed, 0 to remove and 37 not upgraded.\n",
            "cp: '/usr/lib/chromium-browser/chromedriver' and '/usr/bin/chromedriver' are the same file\n"
          ]
        }
      ]
    },
    {
      "cell_type": "code",
      "source": [
        "#import all required libraries\n",
        "import nltk\n",
        "from nltk.sentiment.vader import SentimentIntensityAnalyzer\n",
        "import time\n",
        "from selenium import webdriver\n",
        "from selenium.webdriver.common.by import By\n",
        "from selenium.webdriver.common.keys import Keys\n",
        "from selenium.webdriver.support.ui import WebDriverWait\n",
        "from selenium.webdriver.support import expected_conditions as EC\n",
        "from selenium.webdriver.chrome.service import Service\n",
        "import pandas as pd\n",
        "from statistics import mean"
      ],
      "metadata": {
        "id": "VP9xtHFEPr36",
        "colab": {
          "base_uri": "https://localhost:8080/"
        },
        "outputId": "7ae45acd-0069-4da0-836f-4522cc3ebe89"
      },
      "execution_count": null,
      "outputs": [
        {
          "output_type": "stream",
          "name": "stderr",
          "text": [
            "/usr/local/lib/python3.7/dist-packages/nltk/twitter/__init__.py:20: UserWarning: The twython library has not been installed. Some functionality from the twitter package will not be available.\n",
            "  warnings.warn(\"The twython library has not been installed. \"\n"
          ]
        }
      ]
    },
    {
      "cell_type": "code",
      "metadata": {
        "id": "rNNAbMDZxIFm"
      },
      "source": [
        "# set options to be headless, ..\n",
        "options = webdriver.ChromeOptions()\n",
        "options.add_argument('--headless')\n",
        "options.add_argument('--no-sandbox')\n",
        "options.add_argument('--disable-dev-shm-usage')\n"
      ],
      "execution_count": null,
      "outputs": []
    },
    {
      "cell_type": "code",
      "metadata": {
        "id": "v7kqk40h8iDn"
      },
      "source": [
        "data = []\n",
        "# open it, go to a website, and get results\n",
        "driver = webdriver.Chrome('chromedriver',options=options)\n",
        "driver.get(\"https://www.youtube.com/watch?v=CtXEcBz3Go0&t=1s\")\n",
        "# scroll till the end of the video so comments will start loading\n",
        "driver.execute_script('window.scrollTo(1, 500);')\n",
        "# now wait let load the comments\n",
        "time.sleep(5)\n",
        "with driver:\n",
        "    wait = WebDriverWait(driver, 5)\n",
        "\n",
        "    #we can increase the range to get more comments\n",
        "    for item in range(40):\n",
        "        wait.until(EC.visibility_of_element_located((By.TAG_NAME, \"body\"))).send_keys(Keys.END)\n",
        "        time.sleep(5)\n",
        "\n",
        "    for comment in wait.until(EC.presence_of_all_elements_located((By.CSS_SELECTOR, \"#content\"))):\n",
        "        data.append(comment.text)\n",
        "\n",
        "df = pd.DataFrame(data, columns=['comment'])"
      ],
      "execution_count": null,
      "outputs": []
    },
    {
      "cell_type": "code",
      "metadata": {
        "colab": {
          "base_uri": "https://localhost:8080/",
          "height": 363
        },
        "id": "RxJGpF__9Zy9",
        "outputId": "4d95c63e-1fda-4cc8-b149-67063cf2ee5b"
      },
      "source": [
        "#take a look at the top of the data set\n",
        "df.head(10)"
      ],
      "execution_count": null,
      "outputs": [
        {
          "output_type": "execute_result",
          "data": {
            "text/html": [
              "<div>\n",
              "<style scoped>\n",
              "    .dataframe tbody tr th:only-of-type {\n",
              "        vertical-align: middle;\n",
              "    }\n",
              "\n",
              "    .dataframe tbody tr th {\n",
              "        vertical-align: top;\n",
              "    }\n",
              "\n",
              "    .dataframe thead th {\n",
              "        text-align: right;\n",
              "    }\n",
              "</style>\n",
              "<table border=\"1\" class=\"dataframe\">\n",
              "  <thead>\n",
              "    <tr style=\"text-align: right;\">\n",
              "      <th></th>\n",
              "      <th>comment</th>\n",
              "    </tr>\n",
              "  </thead>\n",
              "  <tbody>\n",
              "    <tr>\n",
              "      <th>0</th>\n",
              "      <td>TW\\nSKIP NAVIGATION\\nSIGN IN\\n0:01 / 1:42\\n#Ex...</td>\n",
              "    </tr>\n",
              "    <tr>\n",
              "      <th>1</th>\n",
              "      <td></td>\n",
              "    </tr>\n",
              "    <tr>\n",
              "      <th>2</th>\n",
              "      <td>Check out the official Extremely Wicked, Shock...</td>\n",
              "    </tr>\n",
              "    <tr>\n",
              "      <th>3</th>\n",
              "      <td>本片從泰德交往最久的女友伊莉莎白的角度切入，即使罪證確鑿，伊莉莎白多年來仍拒絕接受有關泰德邦...</td>\n",
              "    </tr>\n",
              "    <tr>\n",
              "      <th>4</th>\n",
              "      <td>Life wasn’t so easy for Troy Bolton after grad...</td>\n",
              "    </tr>\n",
              "    <tr>\n",
              "      <th>5</th>\n",
              "      <td>Oh god when the little girl went “ted!” I was ...</td>\n",
              "    </tr>\n",
              "    <tr>\n",
              "      <th>6</th>\n",
              "      <td>For everyone that's upset about the romanticiz...</td>\n",
              "    </tr>\n",
              "    <tr>\n",
              "      <th>7</th>\n",
              "      <td>Everyone who is saying this movie romanticized...</td>\n",
              "    </tr>\n",
              "    <tr>\n",
              "      <th>8</th>\n",
              "      <td>I'm so skeptical right now. I'm glad Zac Efron...</td>\n",
              "    </tr>\n",
              "    <tr>\n",
              "      <th>9</th>\n",
              "      <td>I don't get the hate...it's seems like a good ...</td>\n",
              "    </tr>\n",
              "  </tbody>\n",
              "</table>\n",
              "</div>"
            ],
            "text/plain": [
              "                                             comment\n",
              "0  TW\\nSKIP NAVIGATION\\nSIGN IN\\n0:01 / 1:42\\n#Ex...\n",
              "1                                                   \n",
              "2  Check out the official Extremely Wicked, Shock...\n",
              "3  本片從泰德交往最久的女友伊莉莎白的角度切入，即使罪證確鑿，伊莉莎白多年來仍拒絕接受有關泰德邦...\n",
              "4  Life wasn’t so easy for Troy Bolton after grad...\n",
              "5  Oh god when the little girl went “ted!” I was ...\n",
              "6  For everyone that's upset about the romanticiz...\n",
              "7  Everyone who is saying this movie romanticized...\n",
              "8  I'm so skeptical right now. I'm glad Zac Efron...\n",
              "9  I don't get the hate...it's seems like a good ..."
            ]
          },
          "metadata": {},
          "execution_count": 11
        }
      ]
    },
    {
      "cell_type": "code",
      "source": [
        "#drop top rows that don't contain comments\n",
        "df = df.drop(df.index[range(4)])\n",
        "df.head()"
      ],
      "metadata": {
        "colab": {
          "base_uri": "https://localhost:8080/",
          "height": 206
        },
        "id": "9HwvRsNqfeif",
        "outputId": "df95cf78-5a5e-4673-bd80-82562b98129e"
      },
      "execution_count": null,
      "outputs": [
        {
          "output_type": "execute_result",
          "data": {
            "text/html": [
              "<div>\n",
              "<style scoped>\n",
              "    .dataframe tbody tr th:only-of-type {\n",
              "        vertical-align: middle;\n",
              "    }\n",
              "\n",
              "    .dataframe tbody tr th {\n",
              "        vertical-align: top;\n",
              "    }\n",
              "\n",
              "    .dataframe thead th {\n",
              "        text-align: right;\n",
              "    }\n",
              "</style>\n",
              "<table border=\"1\" class=\"dataframe\">\n",
              "  <thead>\n",
              "    <tr style=\"text-align: right;\">\n",
              "      <th></th>\n",
              "      <th>comment</th>\n",
              "    </tr>\n",
              "  </thead>\n",
              "  <tbody>\n",
              "    <tr>\n",
              "      <th>4</th>\n",
              "      <td>Life wasn’t so easy for Troy Bolton after grad...</td>\n",
              "    </tr>\n",
              "    <tr>\n",
              "      <th>5</th>\n",
              "      <td>Oh god when the little girl went “ted!” I was ...</td>\n",
              "    </tr>\n",
              "    <tr>\n",
              "      <th>6</th>\n",
              "      <td>For everyone that's upset about the romanticiz...</td>\n",
              "    </tr>\n",
              "    <tr>\n",
              "      <th>7</th>\n",
              "      <td>Everyone who is saying this movie romanticized...</td>\n",
              "    </tr>\n",
              "    <tr>\n",
              "      <th>8</th>\n",
              "      <td>I'm so skeptical right now. I'm glad Zac Efron...</td>\n",
              "    </tr>\n",
              "  </tbody>\n",
              "</table>\n",
              "</div>"
            ],
            "text/plain": [
              "                                             comment\n",
              "4  Life wasn’t so easy for Troy Bolton after grad...\n",
              "5  Oh god when the little girl went “ted!” I was ...\n",
              "6  For everyone that's upset about the romanticiz...\n",
              "7  Everyone who is saying this movie romanticized...\n",
              "8  I'm so skeptical right now. I'm glad Zac Efron..."
            ]
          },
          "metadata": {},
          "execution_count": 12
        }
      ]
    },
    {
      "cell_type": "code",
      "metadata": {
        "colab": {
          "base_uri": "https://localhost:8080/"
        },
        "id": "PkGSeaTC9dhF",
        "outputId": "e011a1fb-1601-4a82-e5f0-a6eb3c836aae"
      },
      "source": [
        "#check how many comments we have\n",
        "df.info()"
      ],
      "execution_count": null,
      "outputs": [
        {
          "output_type": "stream",
          "name": "stdout",
          "text": [
            "<class 'pandas.core.frame.DataFrame'>\n",
            "Int64Index: 801 entries, 4 to 804\n",
            "Data columns (total 1 columns):\n",
            " #   Column   Non-Null Count  Dtype \n",
            "---  ------   --------------  ----- \n",
            " 0   comment  801 non-null    object\n",
            "dtypes: object(1)\n",
            "memory usage: 12.5+ KB\n"
          ]
        }
      ]
    },
    {
      "cell_type": "code",
      "metadata": {
        "colab": {
          "base_uri": "https://localhost:8080/"
        },
        "id": "EZ2qlPeS5EWJ",
        "outputId": "356c2e3a-4c93-4415-9b22-b18e18c03fbf"
      },
      "source": [
        "nltk.downloader.download('vader_lexicon')\n",
        "# Instantiate the sentiment intensity analyzer\n",
        "vader = SentimentIntensityAnalyzer()"
      ],
      "execution_count": null,
      "outputs": [
        {
          "output_type": "stream",
          "name": "stdout",
          "text": [
            "[nltk_data] Downloading package vader_lexicon to /root/nltk_data...\n"
          ]
        }
      ]
    },
    {
      "cell_type": "code",
      "metadata": {
        "colab": {
          "base_uri": "https://localhost:8080/",
          "height": 206
        },
        "id": "snxnP0RKGMZL",
        "outputId": "22258f17-9458-4c44-a858-72052b63b604"
      },
      "source": [
        "#define new column \"scores\" that contains the info of positive, \n",
        "#negative and neutral proportion of a comment lines\n",
        "df['scores'] = df['comment'].apply(lambda comment: vader.polarity_scores(comment))\n",
        "\n",
        "#look at the top of the data\n",
        "df.head()"
      ],
      "execution_count": null,
      "outputs": [
        {
          "output_type": "execute_result",
          "data": {
            "text/html": [
              "<div>\n",
              "<style scoped>\n",
              "    .dataframe tbody tr th:only-of-type {\n",
              "        vertical-align: middle;\n",
              "    }\n",
              "\n",
              "    .dataframe tbody tr th {\n",
              "        vertical-align: top;\n",
              "    }\n",
              "\n",
              "    .dataframe thead th {\n",
              "        text-align: right;\n",
              "    }\n",
              "</style>\n",
              "<table border=\"1\" class=\"dataframe\">\n",
              "  <thead>\n",
              "    <tr style=\"text-align: right;\">\n",
              "      <th></th>\n",
              "      <th>comment</th>\n",
              "      <th>scores</th>\n",
              "    </tr>\n",
              "  </thead>\n",
              "  <tbody>\n",
              "    <tr>\n",
              "      <th>4</th>\n",
              "      <td>Life wasn’t so easy for Troy Bolton after grad...</td>\n",
              "      <td>{'neg': 0.0, 'neu': 0.681, 'pos': 0.319, 'comp...</td>\n",
              "    </tr>\n",
              "    <tr>\n",
              "      <th>5</th>\n",
              "      <td>Oh god when the little girl went “ted!” I was ...</td>\n",
              "      <td>{'neg': 0.189, 'neu': 0.541, 'pos': 0.27, 'com...</td>\n",
              "    </tr>\n",
              "    <tr>\n",
              "      <th>6</th>\n",
              "      <td>For everyone that's upset about the romanticiz...</td>\n",
              "      <td>{'neg': 0.16, 'neu': 0.662, 'pos': 0.178, 'com...</td>\n",
              "    </tr>\n",
              "    <tr>\n",
              "      <th>7</th>\n",
              "      <td>Everyone who is saying this movie romanticized...</td>\n",
              "      <td>{'neg': 0.049, 'neu': 0.818, 'pos': 0.133, 'co...</td>\n",
              "    </tr>\n",
              "    <tr>\n",
              "      <th>8</th>\n",
              "      <td>I'm so skeptical right now. I'm glad Zac Efron...</td>\n",
              "      <td>{'neg': 0.05, 'neu': 0.782, 'pos': 0.168, 'com...</td>\n",
              "    </tr>\n",
              "  </tbody>\n",
              "</table>\n",
              "</div>"
            ],
            "text/plain": [
              "                                             comment                                             scores\n",
              "4  Life wasn’t so easy for Troy Bolton after grad...  {'neg': 0.0, 'neu': 0.681, 'pos': 0.319, 'comp...\n",
              "5  Oh god when the little girl went “ted!” I was ...  {'neg': 0.189, 'neu': 0.541, 'pos': 0.27, 'com...\n",
              "6  For everyone that's upset about the romanticiz...  {'neg': 0.16, 'neu': 0.662, 'pos': 0.178, 'com...\n",
              "7  Everyone who is saying this movie romanticized...  {'neg': 0.049, 'neu': 0.818, 'pos': 0.133, 'co...\n",
              "8  I'm so skeptical right now. I'm glad Zac Efron...  {'neg': 0.05, 'neu': 0.782, 'pos': 0.168, 'com..."
            ]
          },
          "metadata": {},
          "execution_count": 15
        }
      ]
    },
    {
      "cell_type": "code",
      "metadata": {
        "colab": {
          "base_uri": "https://localhost:8080/",
          "height": 206
        },
        "id": "Vvfce3R2Gv40",
        "outputId": "c884dfc9-a183-4843-ab7e-1b90b70412fb"
      },
      "source": [
        "# add new column \"compound\" which is the sum of positive, negative & neutral \n",
        "# scores which is then normalized between -1(most extreme negative) \n",
        "# and +1 (most extreme positive)\n",
        "df['compound']  = df['scores'].apply(lambda score_dict: score_dict['compound'])\n",
        "\n",
        "df.head()"
      ],
      "execution_count": null,
      "outputs": [
        {
          "output_type": "execute_result",
          "data": {
            "text/html": [
              "<div>\n",
              "<style scoped>\n",
              "    .dataframe tbody tr th:only-of-type {\n",
              "        vertical-align: middle;\n",
              "    }\n",
              "\n",
              "    .dataframe tbody tr th {\n",
              "        vertical-align: top;\n",
              "    }\n",
              "\n",
              "    .dataframe thead th {\n",
              "        text-align: right;\n",
              "    }\n",
              "</style>\n",
              "<table border=\"1\" class=\"dataframe\">\n",
              "  <thead>\n",
              "    <tr style=\"text-align: right;\">\n",
              "      <th></th>\n",
              "      <th>comment</th>\n",
              "      <th>scores</th>\n",
              "      <th>compound</th>\n",
              "    </tr>\n",
              "  </thead>\n",
              "  <tbody>\n",
              "    <tr>\n",
              "      <th>4</th>\n",
              "      <td>Life wasn’t so easy for Troy Bolton after grad...</td>\n",
              "      <td>{'neg': 0.0, 'neu': 0.681, 'pos': 0.319, 'comp...</td>\n",
              "      <td>0.5777</td>\n",
              "    </tr>\n",
              "    <tr>\n",
              "      <th>5</th>\n",
              "      <td>Oh god when the little girl went “ted!” I was ...</td>\n",
              "      <td>{'neg': 0.189, 'neu': 0.541, 'pos': 0.27, 'com...</td>\n",
              "      <td>0.4406</td>\n",
              "    </tr>\n",
              "    <tr>\n",
              "      <th>6</th>\n",
              "      <td>For everyone that's upset about the romanticiz...</td>\n",
              "      <td>{'neg': 0.16, 'neu': 0.662, 'pos': 0.178, 'com...</td>\n",
              "      <td>0.2332</td>\n",
              "    </tr>\n",
              "    <tr>\n",
              "      <th>7</th>\n",
              "      <td>Everyone who is saying this movie romanticized...</td>\n",
              "      <td>{'neg': 0.049, 'neu': 0.818, 'pos': 0.133, 'co...</td>\n",
              "      <td>0.4767</td>\n",
              "    </tr>\n",
              "    <tr>\n",
              "      <th>8</th>\n",
              "      <td>I'm so skeptical right now. I'm glad Zac Efron...</td>\n",
              "      <td>{'neg': 0.05, 'neu': 0.782, 'pos': 0.168, 'com...</td>\n",
              "      <td>0.7394</td>\n",
              "    </tr>\n",
              "  </tbody>\n",
              "</table>\n",
              "</div>"
            ],
            "text/plain": [
              "                                             comment  ... compound\n",
              "4  Life wasn’t so easy for Troy Bolton after grad...  ...   0.5777\n",
              "5  Oh god when the little girl went “ted!” I was ...  ...   0.4406\n",
              "6  For everyone that's upset about the romanticiz...  ...   0.2332\n",
              "7  Everyone who is saying this movie romanticized...  ...   0.4767\n",
              "8  I'm so skeptical right now. I'm glad Zac Efron...  ...   0.7394\n",
              "\n",
              "[5 rows x 3 columns]"
            ]
          },
          "metadata": {},
          "execution_count": 16
        }
      ]
    },
    {
      "cell_type": "code",
      "metadata": {
        "colab": {
          "base_uri": "https://localhost:8080/",
          "height": 206
        },
        "id": "PiaApVfgIJro",
        "outputId": "6b483389-732a-4007-c9a3-128090fc39da"
      },
      "source": [
        "# check if the overall comment negative or positive\n",
        "df['comp_score'] = df['compound'].apply(lambda c: 'pos' if c >=0 else 'neg')\n",
        "\n",
        "df.head()"
      ],
      "execution_count": null,
      "outputs": [
        {
          "output_type": "execute_result",
          "data": {
            "text/html": [
              "<div>\n",
              "<style scoped>\n",
              "    .dataframe tbody tr th:only-of-type {\n",
              "        vertical-align: middle;\n",
              "    }\n",
              "\n",
              "    .dataframe tbody tr th {\n",
              "        vertical-align: top;\n",
              "    }\n",
              "\n",
              "    .dataframe thead th {\n",
              "        text-align: right;\n",
              "    }\n",
              "</style>\n",
              "<table border=\"1\" class=\"dataframe\">\n",
              "  <thead>\n",
              "    <tr style=\"text-align: right;\">\n",
              "      <th></th>\n",
              "      <th>comment</th>\n",
              "      <th>scores</th>\n",
              "      <th>compound</th>\n",
              "      <th>comp_score</th>\n",
              "    </tr>\n",
              "  </thead>\n",
              "  <tbody>\n",
              "    <tr>\n",
              "      <th>4</th>\n",
              "      <td>Life wasn’t so easy for Troy Bolton after grad...</td>\n",
              "      <td>{'neg': 0.0, 'neu': 0.681, 'pos': 0.319, 'comp...</td>\n",
              "      <td>0.5777</td>\n",
              "      <td>pos</td>\n",
              "    </tr>\n",
              "    <tr>\n",
              "      <th>5</th>\n",
              "      <td>Oh god when the little girl went “ted!” I was ...</td>\n",
              "      <td>{'neg': 0.189, 'neu': 0.541, 'pos': 0.27, 'com...</td>\n",
              "      <td>0.4406</td>\n",
              "      <td>pos</td>\n",
              "    </tr>\n",
              "    <tr>\n",
              "      <th>6</th>\n",
              "      <td>For everyone that's upset about the romanticiz...</td>\n",
              "      <td>{'neg': 0.16, 'neu': 0.662, 'pos': 0.178, 'com...</td>\n",
              "      <td>0.2332</td>\n",
              "      <td>pos</td>\n",
              "    </tr>\n",
              "    <tr>\n",
              "      <th>7</th>\n",
              "      <td>Everyone who is saying this movie romanticized...</td>\n",
              "      <td>{'neg': 0.049, 'neu': 0.818, 'pos': 0.133, 'co...</td>\n",
              "      <td>0.4767</td>\n",
              "      <td>pos</td>\n",
              "    </tr>\n",
              "    <tr>\n",
              "      <th>8</th>\n",
              "      <td>I'm so skeptical right now. I'm glad Zac Efron...</td>\n",
              "      <td>{'neg': 0.05, 'neu': 0.782, 'pos': 0.168, 'com...</td>\n",
              "      <td>0.7394</td>\n",
              "      <td>pos</td>\n",
              "    </tr>\n",
              "  </tbody>\n",
              "</table>\n",
              "</div>"
            ],
            "text/plain": [
              "                                             comment  ... comp_score\n",
              "4  Life wasn’t so easy for Troy Bolton after grad...  ...        pos\n",
              "5  Oh god when the little girl went “ted!” I was ...  ...        pos\n",
              "6  For everyone that's upset about the romanticiz...  ...        pos\n",
              "7  Everyone who is saying this movie romanticized...  ...        pos\n",
              "8  I'm so skeptical right now. I'm glad Zac Efron...  ...        pos\n",
              "\n",
              "[5 rows x 4 columns]"
            ]
          },
          "metadata": {},
          "execution_count": 17
        }
      ]
    },
    {
      "cell_type": "code",
      "metadata": {
        "colab": {
          "base_uri": "https://localhost:8080/"
        },
        "id": "O_pcDy6NDBkc",
        "outputId": "0c4eb336-a473-4920-cc5e-9a944d342b92"
      },
      "source": [
        "# here we can explore some examples from our data set and compare the results \n",
        "# which scores are consireder positive and which negative\n",
        "for i in range(6,20):\n",
        "    print(vader.polarity_scores(df[\"comment\"][i]))"
      ],
      "execution_count": null,
      "outputs": [
        {
          "output_type": "stream",
          "name": "stdout",
          "text": [
            "{'neg': 0.16, 'neu': 0.662, 'pos': 0.178, 'compound': 0.2332}\n",
            "{'neg': 0.049, 'neu': 0.818, 'pos': 0.133, 'compound': 0.4767}\n",
            "{'neg': 0.05, 'neu': 0.782, 'pos': 0.168, 'compound': 0.7394}\n",
            "{'neg': 0.0, 'neu': 0.76, 'pos': 0.24, 'compound': 0.802}\n",
            "{'neg': 0.078, 'neu': 0.819, 'pos': 0.102, 'compound': 0.579}\n",
            "{'neg': 0.307, 'neu': 0.526, 'pos': 0.167, 'compound': -0.3818}\n",
            "{'neg': 0.085, 'neu': 0.712, 'pos': 0.203, 'compound': 0.9062}\n",
            "{'neg': 0.0, 'neu': 0.769, 'pos': 0.231, 'compound': 0.6901}\n",
            "{'neg': 0.097, 'neu': 0.702, 'pos': 0.201, 'compound': 0.9046}\n",
            "{'neg': 0.259, 'neu': 0.569, 'pos': 0.173, 'compound': -0.6597}\n",
            "{'neg': 0.0, 'neu': 0.645, 'pos': 0.355, 'compound': 0.8874}\n",
            "{'neg': 0.081, 'neu': 0.699, 'pos': 0.22, 'compound': 0.8212}\n",
            "{'neg': 0.0, 'neu': 0.475, 'pos': 0.525, 'compound': 0.9245}\n",
            "{'neg': 0.155, 'neu': 0.726, 'pos': 0.119, 'compound': -0.754}\n"
          ]
        }
      ]
    },
    {
      "cell_type": "code",
      "metadata": {
        "colab": {
          "base_uri": "https://localhost:8080/"
        },
        "id": "DAmxcb7bIfYa",
        "outputId": "4ec4c89c-2033-4c95-ecbd-be0efa52b360"
      },
      "source": [
        "# get the mean of positive comments\n",
        "mean(df[\"comp_score\"] == \"pos\")"
      ],
      "execution_count": null,
      "outputs": [
        {
          "output_type": "execute_result",
          "data": {
            "text/plain": [
              "0.7553058676654182"
            ]
          },
          "metadata": {},
          "execution_count": 19
        }
      ]
    },
    {
      "cell_type": "code",
      "metadata": {
        "colab": {
          "base_uri": "https://localhost:8080/"
        },
        "id": "CM9UmoKjJMz6",
        "outputId": "529e39ca-f536-4bd3-bb3e-e0925b32dd64"
      },
      "source": [
        "# get the mean of negative comments\n",
        "mean(df[\"comp_score\"] == \"neg\")"
      ],
      "execution_count": null,
      "outputs": [
        {
          "output_type": "execute_result",
          "data": {
            "text/plain": [
              "0.24469413233458176"
            ]
          },
          "metadata": {},
          "execution_count": 20
        }
      ]
    },
    {
      "cell_type": "code",
      "source": [
        "import matplotlib.pyplot as plt"
      ],
      "metadata": {
        "id": "5hRROZeOSBhH"
      },
      "execution_count": null,
      "outputs": []
    },
    {
      "cell_type": "markdown",
      "source": [
        "# Conclusion: Overall we can conclude that this particular video has 80.7% positive and 19.3% negative comments."
      ],
      "metadata": {
        "id": "r9rba6mAMVdh"
      }
    }
  ]
}